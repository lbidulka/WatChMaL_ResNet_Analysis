{
 "cells": [
  {
   "cell_type": "markdown",
   "metadata": {},
   "source": [
    "# Short Tank Geometry and Event Plotting of CNN mPMT Dataset"
   ]
  },
  {
   "cell_type": "code",
   "execution_count": 1,
   "metadata": {},
   "outputs": [],
   "source": [
    "%load_ext autoreload\n",
    "%matplotlib inline\n",
    "%autoreload 2"
   ]
  },
  {
   "cell_type": "code",
   "execution_count": 2,
   "metadata": {},
   "outputs": [],
   "source": [
    "import sys\n",
    "import os\n",
    "import h5py\n",
    "import numpy as np\n",
    "import matplotlib.pyplot as plt\n",
    "from matplotlib.patches import Circle\n",
    "from matplotlib.collections import PatchCollection\n",
    "import torch\n",
    "import copy"
   ]
  },
  {
   "cell_type": "code",
   "execution_count": 3,
   "metadata": {},
   "outputs": [
    {
     "ename": "ModuleNotFoundError",
     "evalue": "No module named 'WatChMaL'",
     "output_type": "error",
     "traceback": [
      "\u001b[0;31m---------------------------------------------------------------------------\u001b[0m",
      "\u001b[0;31mModuleNotFoundError\u001b[0m                       Traceback (most recent call last)",
      "Input \u001b[0;32mIn [3]\u001b[0m, in \u001b[0;36m<module>\u001b[0;34m\u001b[0m\n\u001b[1;32m      1\u001b[0m \u001b[38;5;66;03m# sys.path.append('/home/lbidulka')\u001b[39;00m\n\u001b[1;32m      2\u001b[0m sys\u001b[38;5;241m.\u001b[39mpath\u001b[38;5;241m.\u001b[39mappend(\u001b[38;5;124m'\u001b[39m\u001b[38;5;124m/home/lbidulka/WatChMaL\u001b[39m\u001b[38;5;124m'\u001b[39m)\n\u001b[0;32m----> 4\u001b[0m \u001b[38;5;28;01mimport\u001b[39;00m \u001b[38;5;21;01mWatChMaL\u001b[39;00m\u001b[38;5;21;01m.\u001b[39;00m\u001b[38;5;21;01manalysis\u001b[39;00m\u001b[38;5;21;01m.\u001b[39;00m\u001b[38;5;21;01mevent_utils\u001b[39;00m \u001b[38;5;28;01mas\u001b[39;00m \u001b[38;5;21;01mev\u001b[39;00m\n\u001b[1;32m      5\u001b[0m \u001b[38;5;28;01mfrom\u001b[39;00m \u001b[38;5;21;01mWatChMaL\u001b[39;00m\u001b[38;5;21;01m.\u001b[39;00m\u001b[38;5;21;01manalysis\u001b[39;00m\u001b[38;5;21;01m.\u001b[39;00m\u001b[38;5;21;01mevent_analysis\u001b[39;00m\u001b[38;5;21;01m.\u001b[39;00m\u001b[38;5;21;01mEventPlotter\u001b[39;00m \u001b[38;5;28;01mimport\u001b[39;00m EventPlotter\n\u001b[1;32m      6\u001b[0m \u001b[38;5;28;01mfrom\u001b[39;00m \u001b[38;5;21;01mwatchmal\u001b[39;00m\u001b[38;5;21;01m.\u001b[39;00m\u001b[38;5;21;01mdataset\u001b[39;00m\u001b[38;5;21;01m.\u001b[39;00m\u001b[38;5;21;01mcnn_mpmt\u001b[39;00m\u001b[38;5;21;01m.\u001b[39;00m\u001b[38;5;21;01mcnn_mpmt_dataset\u001b[39;00m \u001b[38;5;28;01mimport\u001b[39;00m CNNmPMTDataset\n",
      "\u001b[0;31mModuleNotFoundError\u001b[0m: No module named 'WatChMaL'"
     ]
    }
   ],
   "source": [
    "# sys.path.append('/home/lbidulka')\n",
    "sys.path.append('/home/lbidulka/WatChMaL')\n",
    "\n",
    "import WatChMaL.analysis.event_utils as ev\n",
    "from WatChMaL.analysis.event_analysis.EventPlotter import EventPlotter\n",
    "from watchmal.dataset.cnn_mpmt.cnn_mpmt_dataset import CNNmPMTDataset"
   ]
  },
  {
   "cell_type": "code",
   "execution_count": null,
   "metadata": {},
   "outputs": [],
   "source": [
    "def channel_to_position(channel):\n",
    "    channel = channel % 19 \n",
    "    theta = (channel<12)*2*np.pi*channel/12 + ((channel >= 12) & (channel<18))*2*np.pi*(channel-12)/6\n",
    "    radius = 0.2*(channel<18)+0.2*(channel<12)\n",
    "    position = [radius*np.cos(theta), radius*np.sin(theta)] # note this is [y, x] or [row, column]\n",
    "    return position"
   ]
  },
  {
   "cell_type": "code",
   "execution_count": null,
   "metadata": {},
   "outputs": [],
   "source": [
    "def plot_event(data, mpmt_pos, old_convention=False, title=None, style=\"default\", cmap=plt.cm.jet):\n",
    "    cmap = copy.copy(cmap)\n",
    "    if style==\"dark_background\":\n",
    "        edgecolor='0.15'\n",
    "        cmap.set_bad(color='black')\n",
    "    else:\n",
    "        edgecolor='0.85'\n",
    "        cmap.set_bad(color='white')\n",
    "    data[data==0] = np.nan\n",
    "    indices = np.indices(data.shape)\n",
    "    channels = indices[0].flatten()\n",
    "    positions = indices[1:].reshape(2,-1).astype(np.float64)\n",
    "    positions += channel_to_position(channels)\n",
    "    if old_convention:\n",
    "        positions[1] = max(mpmt_pos[:, 1])-positions[1]\n",
    "    mpmts = [Circle((pos[1], pos[0]), radius=0.47)\n",
    "             for pos in mpmt_pos]\n",
    "    with plt.style.context(style):\n",
    "        if old_convention:\n",
    "            figsize = (20,16)\n",
    "        else:\n",
    "            figsize = (20,12)\n",
    "        fig = plt.figure(figsize=figsize)\n",
    "        ax = fig.add_subplot(111)\n",
    "        ax.add_collection(PatchCollection(mpmts, facecolor='none', linewidths=1, edgecolors=edgecolor))\n",
    "        pmts = ax.scatter(positions[1], positions[0], c=data.flatten(), s=3, cmap=cmap)\n",
    "        cbar = plt.colorbar(pmts)\n",
    "        cbar.set_label(\"PMT Charge\")\n",
    "    if title is not None:\n",
    "        ax.set_title(title)"
   ]
  },
  {
   "cell_type": "markdown",
   "metadata": {},
   "source": [
    "## Display Short Tank Data"
   ]
  },
  {
   "cell_type": "markdown",
   "metadata": {},
   "source": [
    "### Load and Plot Short Tank Geometry"
   ]
  },
  {
   "cell_type": "code",
   "execution_count": null,
   "metadata": {},
   "outputs": [],
   "source": [
    "geo_path = '/fast_scratch/WatChMaL/data/geometries/geo_mPMTshort.npz'\n",
    "geofile = np.load(geo_path, allow_pickle=True)\n",
    "\n",
    "tubes = geofile[ 'tube_no' ]\n",
    "\n",
    "tube_xyz = geofile[ 'position' ]\n",
    "tube_x   = tube_xyz[:,0]\n",
    "tube_y   = tube_xyz[:,1]\n",
    "tube_z   = tube_xyz[:,2]\n",
    "\n",
    "R =  (tube_x.max() - tube_x.min())/2.0\n",
    "\n",
    "tube_dir = geofile[ 'orientation']"
   ]
  },
  {
   "cell_type": "code",
   "execution_count": null,
   "metadata": {},
   "outputs": [],
   "source": [
    "print(\"Short tank dimensions: \")\n",
    "print(tube_x.max())\n",
    "print(tube_y.max())\n",
    "print(tube_z.max())\n",
    "print(\"R: \", R)\n",
    "\n",
    "fig = plt.figure(figsize=[15,15])\n",
    "ax = fig.add_subplot(111, projection='3d')\n",
    "ax.scatter( tube_x, tube_y, tube_z, marker='.', c=tubes - 1, cmap=plt.cm.viridis, label='short'  )\n",
    "ax.set_xlabel('X (cm)')\n",
    "ax.set_ylabel('Y (cm)')\n",
    "ax.set_zlabel('Z (cm)')\n",
    "ax.view_init(elev=45.0, azim=45.0)\n",
    "plt.show()"
   ]
  },
  {
   "cell_type": "code",
   "execution_count": null,
   "metadata": {},
   "outputs": [],
   "source": [
    "plotter = EventPlotter(h5_path='/fast_scratch/WatChMaL/data/IWCD_mPMT_Short/IWCD_mPMT_Short_emgp0_E0to1000MeV_digihits.h5',\n",
    "                       mpmt_positions_file='/fast_scratch/WatChMaL/data/geometries/IWCDshort_mPMT_image_positions.npz', \n",
    "                       geo_path='/fast_scratch/WatChMaL/data/geometries/geo_mPMTshort.npz')\n",
    "corrected_tubes = tubes - 1\n",
    "\n",
    "plotter.display_data(corrected_tubes, corrected_tubes, title='Unrolled IWCD Tank Geometry', cmap=plt.cm.viridis, labels=False)"
   ]
  },
  {
   "cell_type": "markdown",
   "metadata": {},
   "source": [
    "### Loading Data and Plotting Test Event"
   ]
  },
  {
   "cell_type": "code",
   "execution_count": null,
   "metadata": {},
   "outputs": [],
   "source": [
    "dataset_short = CNNmPMTDataset(h5file='/fast_scratch/WatChMaL/data/IWCD_mPMT_Short/IWCD_mPMT_Short_emg_E0to1000MeV_digihits.h5',\n",
    "                         mpmt_positions_file='/fast_scratch/WatChMaL/data/geometries/IWCDshort_mPMT_image_positions.npz',\n",
    "                         is_distributed=False)"
   ]
  },
  {
   "cell_type": "code",
   "execution_count": null,
   "metadata": {},
   "outputs": [
    {
     "name": "stderr",
     "output_type": "stream",
     "text": [
      "--- Logging error ---\n",
      "Traceback (most recent call last):\n",
      "  File \"/opt/conda/lib/python3.8/site-packages/ipykernel/kernelbase.py\", line 461, in dispatch_queue\n",
      "    await self.process_one()\n",
      "  File \"/opt/conda/lib/python3.8/site-packages/ipykernel/kernelbase.py\", line 450, in process_one\n",
      "    await dispatch(*args)\n",
      "TypeError: object NoneType can't be used in 'await' expression\n",
      "\n",
      "During handling of the above exception, another exception occurred:\n",
      "\n",
      "Traceback (most recent call last):\n",
      "  File \"/opt/conda/lib/python3.8/logging/__init__.py\", line 1089, in emit\n",
      "    self.flush()\n",
      "  File \"/opt/conda/lib/python3.8/logging/__init__.py\", line 1069, in flush\n",
      "    self.stream.flush()\n",
      "BrokenPipeError: [Errno 32] Broken pipe\n",
      "Call stack:\n",
      "  File \"/opt/conda/lib/python3.8/runpy.py\", line 194, in _run_module_as_main\n",
      "    return _run_code(code, main_globals, None,\n",
      "  File \"/opt/conda/lib/python3.8/runpy.py\", line 87, in _run_code\n",
      "    exec(code, run_globals)\n",
      "  File \"/opt/conda/lib/python3.8/site-packages/ipykernel_launcher.py\", line 16, in <module>\n",
      "    app.launch_new_instance()\n",
      "  File \"/opt/conda/lib/python3.8/site-packages/traitlets/config/application.py\", line 846, in launch_instance\n",
      "    app.start()\n",
      "  File \"/opt/conda/lib/python3.8/site-packages/ipykernel/kernelapp.py\", line 677, in start\n",
      "    self.io_loop.start()\n",
      "  File \"/opt/conda/lib/python3.8/site-packages/tornado/platform/asyncio.py\", line 199, in start\n",
      "    self.asyncio_loop.run_forever()\n",
      "  File \"/opt/conda/lib/python3.8/asyncio/base_events.py\", line 570, in run_forever\n",
      "    self._run_once()\n",
      "  File \"/opt/conda/lib/python3.8/asyncio/base_events.py\", line 1859, in _run_once\n",
      "    handle._run()\n",
      "  File \"/opt/conda/lib/python3.8/asyncio/events.py\", line 81, in _run\n",
      "    self._context.run(self._callback, *self._args)\n",
      "  File \"/opt/conda/lib/python3.8/site-packages/ipykernel/kernelbase.py\", line 463, in dispatch_queue\n",
      "    self.log.exception(\"Error in message handler\")\n",
      "Message: 'Error in message handler'\n",
      "Arguments: ()\n"
     ]
    }
   ],
   "source": [
    "data_short = dataset_short.__getitem__(8)['data']\n",
    "print(data_short.shape)\n",
    "plot_event(data_short, dataset_short.mpmt_positions, title=\"Example Event\")"
   ]
  }
 ],
 "metadata": {
  "kernelspec": {
   "display_name": "Python 3 (ipykernel)",
   "language": "python",
   "name": "python3"
  },
  "language_info": {
   "codemirror_mode": {
    "name": "ipython",
    "version": 3
   },
   "file_extension": ".py",
   "mimetype": "text/x-python",
   "name": "python",
   "nbconvert_exporter": "python",
   "pygments_lexer": "ipython3",
   "version": "3.8.12"
  }
 },
 "nbformat": 4,
 "nbformat_minor": 4
}
